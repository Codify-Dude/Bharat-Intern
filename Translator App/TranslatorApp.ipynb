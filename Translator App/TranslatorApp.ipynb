{
 "cells": [
  {
   "cell_type": "code",
   "execution_count": 83,
   "metadata": {},
   "outputs": [],
   "source": [
    "from tkinter import *\n",
    "from tkinter import ttk"
   ]
  },
  {
   "cell_type": "code",
   "execution_count": 84,
   "metadata": {},
   "outputs": [],
   "source": [
    "window = Tk()\n",
    "window.title('Translator AI')\n",
    "window.geometry('1040x750')\n",
    "window.resizable(0,0)\n",
    "window.config(bg=\"Orange\")"
   ]
  },
  {
   "cell_type": "code",
   "execution_count": 85,
   "metadata": {},
   "outputs": [],
   "source": [
    "label1 = Label(window, text='Translator App', font=('Genos 48 bold'), bg='Black', foreground='White',anchor=N)\n",
    "label1.grid(row=0,column=0,columnspan=6,sticky=NSEW,pady=(0,60))"
   ]
  },
  {
   "cell_type": "code",
   "execution_count": 86,
   "metadata": {},
   "outputs": [],
   "source": [
    "from PIL import ImageTk,Image\n",
    "\n",
    "lang1 = \"English\"\n",
    "lang2 = \"Hindi\"\n",
    "\n",
    "canvas1 = Canvas(window, height=5,width=5,bg='Red')\n",
    "canvas1.grid(row=1,column=0,sticky=NSEW,ipady=25,padx=(40,0),columnspan=2)\n",
    "typed_value1 = canvas1.create_text(190,25,fill=\"White\",font='Genos 36 bold', text=lang1)\n",
    "\n",
    "canvas2 = Canvas(window, height=5,width=5,bg='Red')\n",
    "canvas2.grid(row=1,column=3,columnspan=2,sticky=NSEW)\n",
    "typed_value2 = canvas2.create_text(190,25,fill=\"White\",font='Genos 36 bold', text=lang2)\n",
    "\n",
    "canvas3 = Canvas(window, height=1,width=50,bg='Orange',highlightbackground='Orange')\n",
    "canvas3.grid(row=1,column=5,sticky=NSEW,padx=(0,0))"
   ]
  },
  {
   "cell_type": "code",
   "execution_count": 87,
   "metadata": {},
   "outputs": [],
   "source": [
    "from googletrans import Translator\n",
    "\n",
    "style=ttk.Style()\n",
    "style.theme_use('default')\n",
    "style.configure(\"Vertical.TScrollbar\", background='Orange', bordercolor='White', arrowcolor='White')\n",
    "\n",
    "\n",
    "text1 = Text(window, height=9.5,width=24,background='Red',foreground='White',highlightbackground='White',highlightthickness=2)\n",
    "text1.grid(row=2,column=0,padx=(40,0),pady=(60))\n",
    "v=ttk.Scrollbar(window,orient='vertical',command=text1.yview)\n",
    "v.grid(row=2,column=1,sticky=NS,pady=(60))\n",
    "text1['yscrollcommand'] = v.set\n",
    "text1.config(font='Genos 20 bold')\n",
    "\n",
    "text2 = Text(window, height=9.5,width=24,background='Red',foreground='White',highlightbackground='White',highlightthickness=2)\n",
    "text2.grid(row=2,column=3,pady=(60))\n",
    "v=ttk.Scrollbar(window,orient='vertical',command=text2.yview)\n",
    "v.grid(row=2,column=4,sticky=NS,pady=(60))\n",
    "text2['yscrollcommand'] = v.set\n",
    "text2.config(font='Genos 20 bold')\n",
    "\n"
   ]
  },
  {
   "cell_type": "code",
   "execution_count": 88,
   "metadata": {},
   "outputs": [],
   "source": [
    "def changeText():\n",
    "    text1.delete(1.0,END)\n",
    "    text2.delete(1.0,END)\n",
    "    if canvas1.itemcget(typed_value1, 'text') == \"English\":\n",
    "        canvas1.itemconfigure(typed_value1, text=lang2)\n",
    "        canvas2.itemconfigure(typed_value2, text=lang1)\n",
    "    else:\n",
    "        canvas1.itemconfigure(typed_value1, text=lang1)\n",
    "        canvas2.itemconfigure(typed_value2, text=lang2)\n",
    "        \n",
    "\n",
    "img = Image.open(\"Transfer.png\")\n",
    "resize_img = img.resize((35,35))\n",
    "imag = ImageTk.PhotoImage(resize_img)\n",
    "Swap_Button = Button(window,activeforeground='White',activebackground='Orange',background='Red',image=imag,command=changeText)\n",
    "Swap_Button.grid(row=1,column=2,sticky=NSEW,ipadx=10,padx=(60))\n",
    "\n",
    "def Translate():\n",
    "    value=text1.get(\"1.0\",\"end-1c\")\n",
    "    txt1 = canvas1.itemcget(typed_value1, 'text')\n",
    "    if txt1 == \"English\":\n",
    "        from_lang = \"en\"\n",
    "        to_lang = \"hi\"\n",
    "    else:\n",
    "        from_lang = \"hi\"\n",
    "        to_lang = 'en'\n",
    "    \n",
    "    translator = Translator()\n",
    "    translated = translator.translate(value, src = from_lang, dest = to_lang)\n",
    "    text2.delete(1.0,END)\n",
    "    text2.insert(END, translated.text)\n",
    "\n",
    "Trans_btn = Button(window, text='TRANSLATE',font=('Genos 18 bold'),bg='#33b249',fg='White',activeforeground='White',activebackground='#33b249',disabledforeground='Grey',highlightbackground='White',highlightthickness=2,command=Translate)\n",
    "Trans_btn.grid(row=3,column=2,columnspan=1,sticky=NSEW)\n",
    "window.mainloop()"
   ]
  }
 ],
 "metadata": {
  "kernelspec": {
   "display_name": "Python 3",
   "language": "python",
   "name": "python3"
  },
  "language_info": {
   "codemirror_mode": {
    "name": "ipython",
    "version": 3
   },
   "file_extension": ".py",
   "mimetype": "text/x-python",
   "name": "python",
   "nbconvert_exporter": "python",
   "pygments_lexer": "ipython3",
   "version": "3.11.2"
  },
  "orig_nbformat": 4
 },
 "nbformat": 4,
 "nbformat_minor": 2
}
